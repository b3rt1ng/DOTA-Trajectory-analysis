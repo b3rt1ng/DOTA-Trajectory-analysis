{
 "cells": [
  {
   "cell_type": "code",
   "execution_count": 10,
   "metadata": {},
   "outputs": [],
   "source": [
    "\n",
    "import numpy as np\n",
    "import matplotlib.pyplot as plt\n",
    "import random as rd\n",
    "from Segment import *"
   ]
  },
  {
   "cell_type": "code",
   "execution_count": 11,
   "metadata": {},
   "outputs": [],
   "source": [
    "def generateRandomPoints(numberOfPoints: int):\n",
    "  points = []\n",
    "  for i in range(numberOfPoints):\n",
    "    x = rd.randint(0, 10)\n",
    "    y = rd.randint(0, 10)\n",
    "    point = Point(x, y)\n",
    "    points.append(point)\n",
    "  return points"
   ]
  },
  {
   "cell_type": "code",
   "execution_count": 12,
   "metadata": {},
   "outputs": [],
   "source": [
    "def getCenters(nbCluster : int, points):\n",
    "  listlen = len(points)\n",
    "  setM = set()\n",
    "  res = []\n",
    "  for _ in range(nbCluster):\n",
    "    randomIndex = rd.randint(0, listlen - 1)\n",
    "    while randomIndex in setM:\n",
    "      randomIndex = rd.randint(0, listlen - 1)\n",
    "    setM.add(randomIndex)\n",
    "    res.append(points[randomIndex])\n",
    "  return res    \n"
   ]
  },
  {
   "cell_type": "code",
   "execution_count": 13,
   "metadata": {},
   "outputs": [],
   "source": [
    "def distance(point1, point2):\n",
    "  return (point1.get_x() - point2.get_x())**2 + (point1.get_y() - point2.get_y())**2"
   ]
  },
  {
   "cell_type": "code",
   "execution_count": 14,
   "metadata": {},
   "outputs": [],
   "source": [
    "def generateMedoid(centers, points):\n",
    "  res = {center : [(center, 0)] for center in centers}\n",
    "  for point in points:\n",
    "    if point in res:\n",
    "      continue\n",
    "    distFromCenter = np.Inf\n",
    "    associatedCenter = None\n",
    "    for center in centers:\n",
    "      dist = distance(point, center)\n",
    "      if dist < distFromCenter:\n",
    "        distFromCenter = dist\n",
    "        associatedCenter = center\n",
    "    res[associatedCenter].append((point, distFromCenter))\n",
    "  return res  "
   ]
  },
  {
   "cell_type": "code",
   "execution_count": 15,
   "metadata": {},
   "outputs": [],
   "source": [
    "def cost(medoids):\n",
    "  res = 0\n",
    "  for medoid in medoids:\n",
    "    for i in range(len(medoids[medoid])):\n",
    "      res += medoids[medoid][i][1]\n",
    "  return res "
   ]
  },
  {
   "cell_type": "code",
   "execution_count": 16,
   "metadata": {},
   "outputs": [],
   "source": [
    "def kMedoids(nbCluster, points):\n",
    "  centers = getCenters(nbCluster, points)\n",
    "  medoids = generateMedoid(centers, points)\n",
    "  currentCost = cost(medoids)\n",
    "  res = medoids\n",
    "  for center in centers:\n",
    "    for point in points:\n",
    "      newCenters = [x if x != center else point for x in centers]\n",
    "      newMedoids = generateMedoid(newCenters, points)\n",
    "      newCost = cost(newMedoids)\n",
    "      if newCost < currentCost:\n",
    "        currentCost = newCost\n",
    "        res = newMedoids\n",
    "  return res   "
   ]
  },
  {
   "cell_type": "code",
   "execution_count": 17,
   "metadata": {},
   "outputs": [],
   "source": [
    "def printMedoids(medoids):\n",
    "  for medoid in medoids:\n",
    "    print(medoid, end=\": \")\n",
    "    for point in medoids[medoid]:\n",
    "      print(point[0], point[1], end=' ')\n",
    "    print()"
   ]
  },
  {
   "cell_type": "code",
   "execution_count": 18,
   "metadata": {},
   "outputs": [
    {
     "name": "stdout",
     "output_type": "stream",
     "text": [
      "(9, 4): (9, 4) 0 (7, 3) 5 (8, 1) 10 (8, 0) 17 (9, 7) 9 (9, 3) 1 (9, 8) 16 (10, 10) 37 (9, 6) 4 (10, 0) 17 (9, 6) 4 (8, 3) 2 (7, 1) 13 (9, 1) 9 (10, 10) 37 (10, 5) 2 \n",
      "(3, 1): (3, 1) 0 (4, 0) 2 (0, 1) 9 (0, 0) 10 (5, 2) 5 (6, 0) 10 (0, 2) 10 (1, 2) 5 (5, 1) 4 (0, 3) 13 (0, 3) 13 (1, 2) 5 (4, 0) 2 (0, 1) 9 \n",
      "(4, 5): (4, 5) 0 (1, 9) 25 (5, 10) 26 (5, 8) 10 (5, 7) 5 (5, 6) 2 (1, 10) 34 (7, 9) 25 (4, 7) 4 (1, 5) 9 (0, 6) 17 (5, 9) 17 (2, 9) 20 (3, 9) 17 (4, 3) 4 (2, 5) 4 (2, 5) 4 (4, 7) 4 (4, 9) 16 \n",
      "523\n"
     ]
    },
    {
     "data": {
      "image/png": "[encoded data removed]",
      "text/plain": [
       "<Figure size 640x480 with 1 Axes>"
      ]
     },
     "metadata": {},
     "output_type": "display_data"
    }
   ],
   "source": [
    "list = generateRandomPoints(50)\n",
    "# print(\"List of points\")\n",
    "# res = \"\"\n",
    "# for point in list: \n",
    "#   res += point.__str__()\n",
    "#   res += \" \"\n",
    "# print(res)\n",
    "# print(\"List of centers\")\n",
    "# centers = getCenters(4, list)\n",
    "# for m in centers:\n",
    "#   m.printPoint() \n",
    "# print(\"Test distance\")\n",
    "# print(distance(centers[0], list[0]))\n",
    "# print(\"Test get medoids\")\n",
    "# medoids = generateMedoid(centers, list)\n",
    "# printMedoids(medoids)\n",
    "# print(cost(medoids))\n",
    "# print(\"Test k-medoids\")\n",
    "km = kMedoids(3, list)\n",
    "printMedoids(km) \n",
    "print(cost(km))\n",
    "colors = ['red', 'blue', 'green']\n",
    "i = 0\n",
    "for m in km:\n",
    "  X = [point[0].get_x() for point in km[m]]\n",
    "  Y = [point[0].get_y() for point in km[m]]\n",
    "  plt.scatter(X, Y, c=colors[i])\n",
    "  plt.scatter(m.get_x(), m.get_y(), c='black')\n",
    "  i += 1"
   ]
  }
 ],
 "metadata": {
  "kernelspec": {
   "display_name": "Python 3",
   "language": "python",
   "name": "python3"
  },
  "language_info": {
   "codemirror_mode": {
    "name": "ipython",
    "version": 3
   },
   "file_extension": ".py",
   "mimetype": "text/x-python",
   "name": "python",
   "nbconvert_exporter": "python",
   "pygments_lexer": "ipython3",
   "version": "3.10.6"
  },
  "orig_nbformat": 4,
  "vscode": {
   "interpreter": {
    "hash": "916dbcbb3f70747c44a77c7bcd40155683ae19c65e1c03b4aa3499c5328201f1"
   }
  }
 },
 "nbformat": 4,
 "nbformat_minor": 2
}
